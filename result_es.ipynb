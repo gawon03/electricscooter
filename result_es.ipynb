{
 "cells": [
  {
   "cell_type": "code",
   "execution_count": 1,
   "metadata": {
    "colab": {
     "base_uri": "https://localhost:8080/"
    },
    "executionInfo": {
     "elapsed": 21560,
     "status": "ok",
     "timestamp": 1629205525727,
     "user": {
      "displayName": "Jong Heon Lee",
      "photoUrl": "",
      "userId": "11528395443104218375"
     },
     "user_tz": -540
    },
    "id": "j21iKeh9NwgI",
    "outputId": "8e6ecbff-c933-4e40-bfc1-d98cad6dbd37"
   },
   "outputs": [
    {
     "name": "stdout",
     "output_type": "stream",
     "text": [
      "Mounted at /content/drive\n"
     ]
    }
   ],
   "source": [
    "from google.colab import drive\n",
    "drive.mount('/content/drive')"
   ]
  },
  {
   "cell_type": "code",
   "execution_count": 2,
   "metadata": {
    "colab": {
     "base_uri": "https://localhost:8080/"
    },
    "executionInfo": {
     "elapsed": 131274,
     "status": "ok",
     "timestamp": 1629204872368,
     "user": {
      "displayName": "Jong Heon Lee",
      "photoUrl": "",
      "userId": "11528395443104218375"
     },
     "user_tz": -540
    },
    "id": "kl68AFRspFhX",
    "outputId": "5eab575a-0cdf-40b3-d576-b37f5f647338"
   },
   "outputs": [
    {
     "name": "stdout",
     "output_type": "stream",
     "text": [
      "Cloning into 'electricscooter'...\n",
      "remote: Enumerating objects: 21006, done.\u001b[K\n",
      "remote: Counting objects: 100% (2975/2975), done.\u001b[K\n",
      "remote: Compressing objects: 100% (2123/2123), done.\u001b[K\n",
      "remote: Total 21006 (delta 14), reused 2965 (delta 5), pack-reused 18031\u001b[K\n",
      "Receiving objects: 100% (21006/21006), 616.98 MiB | 17.57 MiB/s, done.\n",
      "Resolving deltas: 100% (2102/2102), done.\n",
      "Checking out files: 100% (6232/6232), done.\n"
     ]
    }
   ],
   "source": [
    "!git clone https://github.com/martinuslee/electricscooter.git"
   ]
  },
  {
   "cell_type": "code",
   "execution_count": 29,
   "metadata": {
    "colab": {
     "base_uri": "https://localhost:8080/"
    },
    "executionInfo": {
     "elapsed": 326,
     "status": "ok",
     "timestamp": 1629206113465,
     "user": {
      "displayName": "Jong Heon Lee",
      "photoUrl": "",
      "userId": "11528395443104218375"
     },
     "user_tz": -540
    },
    "id": "SZ7GDz3BKtFs",
    "outputId": "2a0312fa-82b4-4a22-8c0c-46b8b8b257f9"
   },
   "outputs": [
    {
     "name": "stdout",
     "output_type": "stream",
     "text": [
      "/content/drive/MyDrive/Colab Notebooks/electricscooter\n"
     ]
    }
   ],
   "source": [
    "%cd /content/drive/MyDrive/Colab Notebooks/electricscooter/"
   ]
  },
  {
   "cell_type": "code",
   "execution_count": 3,
   "metadata": {
    "colab": {
     "base_uri": "https://localhost:8080/"
    },
    "executionInfo": {
     "elapsed": 9061,
     "status": "ok",
     "timestamp": 1629205550213,
     "user": {
      "displayName": "Jong Heon Lee",
      "photoUrl": "",
      "userId": "11528395443104218375"
     },
     "user_tz": -540
    },
    "id": "cTiq2eYrmLzO",
    "outputId": "6399ac24-7a45-44e8-c694-2038f9f7ac32"
   },
   "outputs": [
    {
     "name": "stdout",
     "output_type": "stream",
     "text": [
      "Cloning into 'yolov5'...\n",
      "remote: Enumerating objects: 8987, done.\u001b[K\n",
      "remote: Counting objects: 100% (22/22), done.\u001b[K\n",
      "remote: Compressing objects: 100% (19/19), done.\u001b[K\n",
      "remote: Total 8987 (delta 8), reused 6 (delta 3), pack-reused 8965\u001b[K\n",
      "Receiving objects: 100% (8987/8987), 9.41 MiB | 2.66 MiB/s, done.\n",
      "Resolving deltas: 100% (6254/6254), done.\n"
     ]
    }
   ],
   "source": [
    "!git clone https://github.com/ultralytics/yolov5"
   ]
  },
  {
   "cell_type": "code",
   "execution_count": 28,
   "metadata": {
    "colab": {
     "base_uri": "https://localhost:8080/"
    },
    "executionInfo": {
     "elapsed": 320,
     "status": "ok",
     "timestamp": 1629206109444,
     "user": {
      "displayName": "Jong Heon Lee",
      "photoUrl": "",
      "userId": "11528395443104218375"
     },
     "user_tz": -540
    },
    "id": "h4bdwDFEmOqu",
    "outputId": "31c38960-a796-460b-cc4e-b100f7ac4a04"
   },
   "outputs": [
    {
     "name": "stdout",
     "output_type": "stream",
     "text": [
      "[Errno 2] No such file or directory: 'yolov5'\n",
      "/content/drive/My Drive/Colab Notebooks/electricscooter/yolov5\n"
     ]
    }
   ],
   "source": [
    "%cd yolov5"
   ]
  },
  {
   "cell_type": "code",
   "execution_count": 8,
   "metadata": {
    "ExecuteTime": {
     "end_time": "2021-08-20T06:59:19.261679Z",
     "start_time": "2021-08-20T06:59:17.944123Z"
    },
    "colab": {
     "base_uri": "https://localhost:8080/"
    },
    "executionInfo": {
     "elapsed": 1162,
     "status": "ok",
     "timestamp": 1629205716689,
     "user": {
      "displayName": "Jong Heon Lee",
      "photoUrl": "",
      "userId": "11528395443104218375"
     },
     "user_tz": -540
    },
    "id": "WqY2RYgamSM-",
    "outputId": "10f6e90b-a119-47d9-fb6d-85e4c7daf80b"
   },
   "outputs": [
    {
     "name": "stdout",
     "output_type": "stream",
     "text": [
      "Note: you may need to restart the kernel to use updated packages.\n"
     ]
    },
    {
     "name": "stderr",
     "output_type": "stream",
     "text": [
      "ERROR: Could not open requirements file: [Errno 2] No such file or directory: 'requirements.txt'\n"
     ]
    }
   ],
   "source": [
    "pip install -r requirements.txt"
   ]
  },
  {
   "cell_type": "code",
   "execution_count": 3,
   "metadata": {
    "ExecuteTime": {
     "end_time": "2021-08-20T10:07:56.466112Z",
     "start_time": "2021-08-20T10:07:55.068544Z"
    },
    "colab": {
     "base_uri": "https://localhost:8080/"
    },
    "executionInfo": {
     "elapsed": 4955,
     "status": "ok",
     "timestamp": 1629206337358,
     "user": {
      "displayName": "Jong Heon Lee",
      "photoUrl": "",
      "userId": "11528395443104218375"
     },
     "user_tz": -540
    },
    "id": "0gKAUjy8ufmt",
    "outputId": "5863f5d3-3298-47e6-a642-b7decb57d326"
   },
   "outputs": [
    {
     "name": "stderr",
     "output_type": "stream",
     "text": [
      "Using cache found in C:\\Users\\ABCLab/.cache\\torch\\hub\\ultralytics_yolov5_master\n",
      "YOLOv5  2021-8-20 torch 1.8.1+cu111 CUDA:0 (GeForce GTX 1650, 4096.0MB)\n",
      "\n",
      "Fusing layers... \n",
      "Model Summary: 476 layers, 87218881 parameters, 0 gradients, 217.2 GFLOPs\n",
      "Adding AutoShape... \n",
      "image 1/1: 827x620 1 electric_scooter, 1 fireplug\n",
      "Speed: 7.5ms pre-process, 401.2ms inference, 2.0ms NMS per image at shape (1, 3, 640, 480)\n"
     ]
    }
   ],
   "source": [
    "import torch\n",
    "\n",
    "# Model\n",
    "#model = torch.hub.load('ultralytics/yolov5', 'yolov5s')  # or yolov5m, yolov5l, yolov5x, custom\n",
    "#model = torch.hub.load('path/to/yolov5', 'custom', path='path/to/best.pt', source='local')  # local repo\n",
    "model = torch.hub.load('ultralytics/yolov5', 'custom', path='./best.pt')  # default\n",
    "\n",
    "# Images\n",
    "img = './static/photos/testcase14.jpg'  # or file, Path, PIL, OpenCV, numpy, list\n",
    "\n",
    "# Inference\n",
    "results = model(img)\n",
    "\n",
    "# Results\n",
    "results.print()  # or .show(), .save(), .crop(), .pandas(), etc."
   ]
  },
  {
   "cell_type": "code",
   "execution_count": 4,
   "metadata": {
    "ExecuteTime": {
     "end_time": "2021-08-20T10:07:58.092398Z",
     "start_time": "2021-08-20T10:07:58.071947Z"
    },
    "colab": {
     "base_uri": "https://localhost:8080/"
    },
    "executionInfo": {
     "elapsed": 329,
     "status": "ok",
     "timestamp": 1629208510811,
     "user": {
      "displayName": "Jong Heon Lee",
      "photoUrl": "",
      "userId": "11528395443104218375"
     },
     "user_tz": -540
    },
    "id": "M-NrVyHKpGss",
    "outputId": "a2fde9f9-900a-4c93-c9ff-ac07ec1542f6"
   },
   "outputs": [
    {
     "name": "stderr",
     "output_type": "stream",
     "text": [
      "Saved 1 image to 'runs\\detect\\exp8'\n"
     ]
    }
   ],
   "source": [
    "result_path = results.save()"
   ]
  },
  {
   "cell_type": "code",
   "execution_count": 155,
   "metadata": {
    "ExecuteTime": {
     "end_time": "2021-08-20T09:40:37.806099Z",
     "start_time": "2021-08-20T09:40:37.791589Z"
    },
    "colab": {
     "base_uri": "https://localhost:8080/"
    },
    "executionInfo": {
     "elapsed": 530,
     "status": "ok",
     "timestamp": 1629206629496,
     "user": {
      "displayName": "Jong Heon Lee",
      "photoUrl": "",
      "userId": "11528395443104218375"
     },
     "user_tz": -540
    },
    "id": "r4etdxbpRAhY",
    "outputId": "29598a5c-b829-4e84-be04-f75d6d84d57a"
   },
   "outputs": [
    {
     "data": {
      "text/plain": [
       "[tensor([[6.06000e+02, 7.44375e+01, 7.02000e+02, 5.04750e+02, 8.95508e-01, 0.00000e+00],\n",
       "         [2.67562e+02, 6.60000e+01, 4.16250e+02, 4.75125e+02, 8.75977e-01, 0.00000e+00],\n",
       "         [4.96500e+02, 7.03125e+01, 6.04500e+02, 4.93500e+02, 8.40820e-01, 0.00000e+00],\n",
       "         [2.10750e+02, 2.28750e+02, 2.80500e+02, 3.63750e+02, 7.79785e-01, 3.00000e+00],\n",
       "         [4.05000e+02, 6.65625e+01, 5.02500e+02, 4.82250e+02, 7.79785e-01, 0.00000e+00],\n",
       "         [2.12625e+02, 2.18250e+02, 2.79750e+02, 3.70500e+02, 4.81689e-01, 0.00000e+00]], device='cuda:0')]"
      ]
     },
     "execution_count": 155,
     "metadata": {},
     "output_type": "execute_result"
    }
   ],
   "source": [
    "results.pred"
   ]
  },
  {
   "cell_type": "code",
   "execution_count": 5,
   "metadata": {
    "ExecuteTime": {
     "end_time": "2021-08-20T10:09:12.483590Z",
     "start_time": "2021-08-20T10:09:12.459780Z"
    },
    "colab": {
     "base_uri": "https://localhost:8080/"
    },
    "executionInfo": {
     "elapsed": 342,
     "status": "ok",
     "timestamp": 1629207036729,
     "user": {
      "displayName": "Jong Heon Lee",
      "photoUrl": "",
      "userId": "11528395443104218375"
     },
     "user_tz": -540
    },
    "id": "ZlxCMocZRJxJ",
    "outputId": "39f38463-c288-483d-9a3c-6058b5f9741e"
   },
   "outputs": [
    {
     "name": "stdout",
     "output_type": "stream",
     "text": [
      "['electric_scooter', 'brailleblock', 'crosswalk', 'fireplug']\n",
      "fireplug\n",
      "주차하시면안되용!\n",
      "electric_scooter\n"
     ]
    }
   ],
   "source": [
    "print(results.names)\n",
    "pred = results.pred\n",
    "for i in pred[0]:\n",
    "  #print(int(i[-1]))\n",
    "  #print(results.names[int(i[-1])])\n",
    "  objects = results.names[int(i[-1])]\n",
    "  print(objects)\n",
    "  if(objects != 'electric_scooter'):\n",
    "    print('주차하시면안되용!')\n",
    "  \n",
    "\n",
    "#print(results.names[int(results.pred[0][0][-1])])"
   ]
  },
  {
   "cell_type": "code",
   "execution_count": 6,
   "metadata": {
    "ExecuteTime": {
     "end_time": "2021-08-20T10:09:16.512644Z",
     "start_time": "2021-08-20T10:09:16.497757Z"
    },
    "colab": {
     "base_uri": "https://localhost:8080/",
     "height": 142
    },
    "executionInfo": {
     "elapsed": 374,
     "status": "ok",
     "timestamp": 1629207767873,
     "user": {
      "displayName": "Jong Heon Lee",
      "photoUrl": "",
      "userId": "11528395443104218375"
     },
     "user_tz": -540
    },
    "id": "bz3pw0G-Vmqr",
    "outputId": "2cfec11e-4ed6-4c01-a936-46d95a24ee3e"
   },
   "outputs": [
    {
     "data": {
      "text/html": [
       "<div>\n",
       "<style scoped>\n",
       "    .dataframe tbody tr th:only-of-type {\n",
       "        vertical-align: middle;\n",
       "    }\n",
       "\n",
       "    .dataframe tbody tr th {\n",
       "        vertical-align: top;\n",
       "    }\n",
       "\n",
       "    .dataframe thead th {\n",
       "        text-align: right;\n",
       "    }\n",
       "</style>\n",
       "<table border=\"1\" class=\"dataframe\">\n",
       "  <thead>\n",
       "    <tr style=\"text-align: right;\">\n",
       "      <th></th>\n",
       "      <th>xmin</th>\n",
       "      <th>ymin</th>\n",
       "      <th>xmax</th>\n",
       "      <th>ymax</th>\n",
       "      <th>confidence</th>\n",
       "      <th>class</th>\n",
       "      <th>name</th>\n",
       "    </tr>\n",
       "  </thead>\n",
       "  <tbody>\n",
       "    <tr>\n",
       "      <th>0</th>\n",
       "      <td>345.212097</td>\n",
       "      <td>316.424408</td>\n",
       "      <td>427.912079</td>\n",
       "      <td>510.414032</td>\n",
       "      <td>0.854492</td>\n",
       "      <td>3</td>\n",
       "      <td>fireplug</td>\n",
       "    </tr>\n",
       "    <tr>\n",
       "      <th>1</th>\n",
       "      <td>43.809372</td>\n",
       "      <td>237.762497</td>\n",
       "      <td>438.572632</td>\n",
       "      <td>764.328857</td>\n",
       "      <td>0.807129</td>\n",
       "      <td>0</td>\n",
       "      <td>electric_scooter</td>\n",
       "    </tr>\n",
       "  </tbody>\n",
       "</table>\n",
       "</div>"
      ],
      "text/plain": [
       "         xmin        ymin        xmax        ymax  confidence  class  \\\n",
       "0  345.212097  316.424408  427.912079  510.414032    0.854492      3   \n",
       "1   43.809372  237.762497  438.572632  764.328857    0.807129      0   \n",
       "\n",
       "               name  \n",
       "0          fireplug  \n",
       "1  electric_scooter  "
      ]
     },
     "execution_count": 6,
     "metadata": {},
     "output_type": "execute_result"
    }
   ],
   "source": [
    "from PIL import Image\n",
    "import io\n",
    "\n",
    "results.xyxy[0]  # img1 predictions (tensor)\n",
    "results.pandas().xyxy[0]  # img1 predictions (pandas)"
   ]
  },
  {
   "cell_type": "code",
   "execution_count": 158,
   "metadata": {
    "ExecuteTime": {
     "end_time": "2021-08-20T09:41:09.111703Z",
     "start_time": "2021-08-20T09:41:09.091949Z"
    },
    "colab": {
     "base_uri": "https://localhost:8080/"
    },
    "executionInfo": {
     "elapsed": 511,
     "status": "ok",
     "timestamp": 1629209657589,
     "user": {
      "displayName": "Jong Heon Lee",
      "photoUrl": "",
      "userId": "11528395443104218375"
     },
     "user_tz": -540
    },
    "id": "1Em8LMJWX_8Z",
    "outputId": "0bcd1d6e-dcfc-410b-c139-35b86309a9ab"
   },
   "outputs": [
    {
     "ename": "AttributeError",
     "evalue": "'NoneType' object has no attribute 'items'",
     "output_type": "error",
     "traceback": [
      "\u001b[1;31m---------------------------------------------------------------------------\u001b[0m",
      "\u001b[1;31mAttributeError\u001b[0m                            Traceback (most recent call last)",
      "\u001b[1;32m<ipython-input-158-422c9d678c3d>\u001b[0m in \u001b[0;36m<module>\u001b[1;34m\u001b[0m\n\u001b[0;32m      9\u001b[0m \u001b[0mtaglabel\u001b[0m \u001b[1;33m=\u001b[0m \u001b[1;33m{\u001b[0m\u001b[1;33m}\u001b[0m\u001b[1;33m\u001b[0m\u001b[1;33m\u001b[0m\u001b[0m\n\u001b[0;32m     10\u001b[0m \u001b[1;33m\u001b[0m\u001b[0m\n\u001b[1;32m---> 11\u001b[1;33m \u001b[1;32mfor\u001b[0m \u001b[0mtag\u001b[0m\u001b[1;33m,\u001b[0m \u001b[0mvalue\u001b[0m \u001b[1;32min\u001b[0m \u001b[0minfo\u001b[0m\u001b[1;33m.\u001b[0m\u001b[0mitems\u001b[0m\u001b[1;33m(\u001b[0m\u001b[1;33m)\u001b[0m\u001b[1;33m:\u001b[0m\u001b[1;33m\u001b[0m\u001b[1;33m\u001b[0m\u001b[0m\n\u001b[0m\u001b[0;32m     12\u001b[0m     \u001b[0mdecoded\u001b[0m \u001b[1;33m=\u001b[0m \u001b[0mTAGS\u001b[0m\u001b[1;33m.\u001b[0m\u001b[0mget\u001b[0m\u001b[1;33m(\u001b[0m\u001b[0mtag\u001b[0m\u001b[1;33m,\u001b[0m \u001b[0mtag\u001b[0m\u001b[1;33m)\u001b[0m\u001b[1;33m\u001b[0m\u001b[1;33m\u001b[0m\u001b[0m\n\u001b[0;32m     13\u001b[0m     \u001b[0mtaglabel\u001b[0m\u001b[1;33m[\u001b[0m\u001b[0mdecoded\u001b[0m\u001b[1;33m]\u001b[0m \u001b[1;33m=\u001b[0m \u001b[0mvalue\u001b[0m\u001b[1;33m\u001b[0m\u001b[1;33m\u001b[0m\u001b[0m\n",
      "\u001b[1;31mAttributeError\u001b[0m: 'NoneType' object has no attribute 'items'"
     ]
    }
   ],
   "source": [
    "#https://www.jbmpa.com/python_advanced/3\n",
    "from PIL import Image\n",
    "from PIL.ExifTags import TAGS\n",
    "image = Image.open(\"./static/photos/testcase12.jpg\")\n",
    "info = image._getexif();\n",
    "image.close()\n",
    " \n",
    "# 새로운 딕셔너리 생성\n",
    "taglabel = {}\n",
    " \n",
    "for tag, value in info.items():\n",
    "    decoded = TAGS.get(tag, tag)\n",
    "    taglabel[decoded] = value\n",
    "\n",
    "exifGPS = taglabel['GPSInfo']\n",
    "latData = exifGPS[2]\n",
    "lonData = exifGPS[4]\n",
    "\n",
    "# 도, 분, 초 계산\n",
    "latDeg = latData[0][0] / float(latData[0][1])\n",
    "latMin = latData[1][0] / float(latData[1][1])\n",
    "latSec = latData[2][0] / float(latData[2][1])\n",
    " \n",
    "lonDeg = lonData[0][0] / float(lonData[0][1])\n",
    "lonMin = lonData[1][0] / float(lonData[1][1])\n",
    "lonSec = lonData[2][0] / float(lonData[2][1])\n",
    " \n",
    "# 도, 분, 초로 나타내기\n",
    "Lat = str(int(latDeg)) + \"°\" + str(int(latMin)) + \"'\" + str(latSec) + \"\\\"\" + exifGPS[1]\n",
    "Lon = str(int(lonDeg)) + \"°\" + str(int(lonMin)) + \"'\" + str(lonSec) + \"\\\"\" + exifGPS[3]\n",
    " \n",
    "print(Lat, Lon)\n",
    " \n",
    "# 도 decimal로 나타내기\n",
    "# 위도 계산\n",
    "Lat = (latDeg + (latMin + latSec / 60.0) / 60.0)\n",
    "# 북위, 남위인지를 판단, 남위일 경우 -로 변경\n",
    "if exifGPS[1] == 'S': Lat = Lat * -1\n",
    " \n",
    "# 경도 계산\n",
    "Lon = (lonDeg + (lonMin + lonSec / 60.0) / 60.0)\n",
    "# 동경, 서경인지를 판단, 서경일 경우 -로 변경\n",
    "if exifGPS[3] == 'W': Lon = Lon * -1\n",
    " \n",
    "print(Lat, \",\",  Lon)"
   ]
  },
  {
   "cell_type": "code",
   "execution_count": 178,
   "metadata": {
    "ExecuteTime": {
     "end_time": "2021-08-20T10:06:42.343303Z",
     "start_time": "2021-08-20T10:06:42.277725Z"
    }
   },
   "outputs": [
    {
     "name": "stdout",
     "output_type": "stream",
     "text": [
      "['./static/photos\\\\KakaoTalk_20210820_160455003.jpg', './static/photos\\\\KakaoTalk_20210820_160455003_01.jpg', './static/photos\\\\testcase.jpg', './static/photos\\\\testcase10.jpg', './static/photos\\\\testcase11.jpg', './static/photos\\\\testcase12.jpg', './static/photos\\\\testcase13.jpg', './static/photos\\\\testcase14.jpg', './static/photos\\\\testcase15.jpg', './static/photos\\\\testcase16.png', './static/photos\\\\testcase2.png', './static/photos\\\\testcase3.jpg', './static/photos\\\\testcase4.jpg', './static/photos\\\\testcase5.jpg', './static/photos\\\\testcase6.jpg', './static/photos\\\\testcase7.jpg', './static/photos\\\\testcase8.jpg', './static/photos\\\\testcase9.jpg', \"./static/photos\\\\[강갑생의 바퀴와 날개] _달릴 길도 없는데_…준비 안된 '라스트 마일' 정책 - 중앙일보_files\"]\n"
     ]
    },
    {
     "ename": "RuntimeError",
     "evalue": "CUDA out of memory. Tried to allocate 2.00 MiB (GPU 0; 4.00 GiB total capacity; 2.11 GiB already allocated; 0 bytes free; 2.15 GiB reserved in total by PyTorch)",
     "output_type": "error",
     "traceback": [
      "\u001b[1;31m---------------------------------------------------------------------------\u001b[0m",
      "\u001b[1;31mRuntimeError\u001b[0m                              Traceback (most recent call last)",
      "\u001b[1;32m<ipython-input-178-c9199dd64b43>\u001b[0m in \u001b[0;36m<module>\u001b[1;34m\u001b[0m\n\u001b[0;32m      7\u001b[0m \u001b[1;33m\u001b[0m\u001b[0m\n\u001b[0;32m      8\u001b[0m \u001b[1;32mfor\u001b[0m \u001b[0mimg_path\u001b[0m \u001b[1;32min\u001b[0m \u001b[0mimg_list\u001b[0m\u001b[1;33m:\u001b[0m\u001b[1;33m\u001b[0m\u001b[1;33m\u001b[0m\u001b[0m\n\u001b[1;32m----> 9\u001b[1;33m     \u001b[0mresults\u001b[0m \u001b[1;33m=\u001b[0m \u001b[0mmodel\u001b[0m\u001b[1;33m(\u001b[0m\u001b[0mimg_path\u001b[0m\u001b[1;33m)\u001b[0m\u001b[1;33m\u001b[0m\u001b[1;33m\u001b[0m\u001b[0m\n\u001b[0m\u001b[0;32m     10\u001b[0m     \u001b[0mresults\u001b[0m\u001b[1;33m.\u001b[0m\u001b[0msave\u001b[0m\u001b[1;33m(\u001b[0m\u001b[1;33m)\u001b[0m\u001b[1;33m\u001b[0m\u001b[1;33m\u001b[0m\u001b[0m\n\u001b[0;32m     11\u001b[0m     \u001b[0mtags\u001b[0m \u001b[1;33m=\u001b[0m \u001b[0mset\u001b[0m\u001b[1;33m(\u001b[0m\u001b[1;33m)\u001b[0m\u001b[1;33m\u001b[0m\u001b[1;33m\u001b[0m\u001b[0m\n",
      "\u001b[1;32m~\\anaconda3\\lib\\site-packages\\torch\\nn\\modules\\module.py\u001b[0m in \u001b[0;36m_call_impl\u001b[1;34m(self, *input, **kwargs)\u001b[0m\n\u001b[0;32m    887\u001b[0m             \u001b[0mresult\u001b[0m \u001b[1;33m=\u001b[0m \u001b[0mself\u001b[0m\u001b[1;33m.\u001b[0m\u001b[0m_slow_forward\u001b[0m\u001b[1;33m(\u001b[0m\u001b[1;33m*\u001b[0m\u001b[0minput\u001b[0m\u001b[1;33m,\u001b[0m \u001b[1;33m**\u001b[0m\u001b[0mkwargs\u001b[0m\u001b[1;33m)\u001b[0m\u001b[1;33m\u001b[0m\u001b[1;33m\u001b[0m\u001b[0m\n\u001b[0;32m    888\u001b[0m         \u001b[1;32melse\u001b[0m\u001b[1;33m:\u001b[0m\u001b[1;33m\u001b[0m\u001b[1;33m\u001b[0m\u001b[0m\n\u001b[1;32m--> 889\u001b[1;33m             \u001b[0mresult\u001b[0m \u001b[1;33m=\u001b[0m \u001b[0mself\u001b[0m\u001b[1;33m.\u001b[0m\u001b[0mforward\u001b[0m\u001b[1;33m(\u001b[0m\u001b[1;33m*\u001b[0m\u001b[0minput\u001b[0m\u001b[1;33m,\u001b[0m \u001b[1;33m**\u001b[0m\u001b[0mkwargs\u001b[0m\u001b[1;33m)\u001b[0m\u001b[1;33m\u001b[0m\u001b[1;33m\u001b[0m\u001b[0m\n\u001b[0m\u001b[0;32m    890\u001b[0m         for hook in itertools.chain(\n\u001b[0;32m    891\u001b[0m                 \u001b[0m_global_forward_hooks\u001b[0m\u001b[1;33m.\u001b[0m\u001b[0mvalues\u001b[0m\u001b[1;33m(\u001b[0m\u001b[1;33m)\u001b[0m\u001b[1;33m,\u001b[0m\u001b[1;33m\u001b[0m\u001b[1;33m\u001b[0m\u001b[0m\n",
      "\u001b[1;32m~\\anaconda3\\lib\\site-packages\\torch\\autograd\\grad_mode.py\u001b[0m in \u001b[0;36mdecorate_context\u001b[1;34m(*args, **kwargs)\u001b[0m\n\u001b[0;32m     25\u001b[0m         \u001b[1;32mdef\u001b[0m \u001b[0mdecorate_context\u001b[0m\u001b[1;33m(\u001b[0m\u001b[1;33m*\u001b[0m\u001b[0margs\u001b[0m\u001b[1;33m,\u001b[0m \u001b[1;33m**\u001b[0m\u001b[0mkwargs\u001b[0m\u001b[1;33m)\u001b[0m\u001b[1;33m:\u001b[0m\u001b[1;33m\u001b[0m\u001b[1;33m\u001b[0m\u001b[0m\n\u001b[0;32m     26\u001b[0m             \u001b[1;32mwith\u001b[0m \u001b[0mself\u001b[0m\u001b[1;33m.\u001b[0m\u001b[0m__class__\u001b[0m\u001b[1;33m(\u001b[0m\u001b[1;33m)\u001b[0m\u001b[1;33m:\u001b[0m\u001b[1;33m\u001b[0m\u001b[1;33m\u001b[0m\u001b[0m\n\u001b[1;32m---> 27\u001b[1;33m                 \u001b[1;32mreturn\u001b[0m \u001b[0mfunc\u001b[0m\u001b[1;33m(\u001b[0m\u001b[1;33m*\u001b[0m\u001b[0margs\u001b[0m\u001b[1;33m,\u001b[0m \u001b[1;33m**\u001b[0m\u001b[0mkwargs\u001b[0m\u001b[1;33m)\u001b[0m\u001b[1;33m\u001b[0m\u001b[1;33m\u001b[0m\u001b[0m\n\u001b[0m\u001b[0;32m     28\u001b[0m         \u001b[1;32mreturn\u001b[0m \u001b[0mcast\u001b[0m\u001b[1;33m(\u001b[0m\u001b[0mF\u001b[0m\u001b[1;33m,\u001b[0m \u001b[0mdecorate_context\u001b[0m\u001b[1;33m)\u001b[0m\u001b[1;33m\u001b[0m\u001b[1;33m\u001b[0m\u001b[0m\n\u001b[0;32m     29\u001b[0m \u001b[1;33m\u001b[0m\u001b[0m\n",
      "\u001b[1;32m~/.cache\\torch\\hub\\ultralytics_yolov5_master\\models\\common.py\u001b[0m in \u001b[0;36mforward\u001b[1;34m(self, imgs, size, augment, profile)\u001b[0m\n\u001b[0;32m    328\u001b[0m         \u001b[0mx\u001b[0m \u001b[1;33m=\u001b[0m \u001b[0mnp\u001b[0m\u001b[1;33m.\u001b[0m\u001b[0mstack\u001b[0m\u001b[1;33m(\u001b[0m\u001b[0mx\u001b[0m\u001b[1;33m,\u001b[0m \u001b[1;36m0\u001b[0m\u001b[1;33m)\u001b[0m \u001b[1;32mif\u001b[0m \u001b[0mn\u001b[0m \u001b[1;33m>\u001b[0m \u001b[1;36m1\u001b[0m \u001b[1;32melse\u001b[0m \u001b[0mx\u001b[0m\u001b[1;33m[\u001b[0m\u001b[1;36m0\u001b[0m\u001b[1;33m]\u001b[0m\u001b[1;33m[\u001b[0m\u001b[1;32mNone\u001b[0m\u001b[1;33m]\u001b[0m  \u001b[1;31m# stack\u001b[0m\u001b[1;33m\u001b[0m\u001b[1;33m\u001b[0m\u001b[0m\n\u001b[0;32m    329\u001b[0m         \u001b[0mx\u001b[0m \u001b[1;33m=\u001b[0m \u001b[0mnp\u001b[0m\u001b[1;33m.\u001b[0m\u001b[0mascontiguousarray\u001b[0m\u001b[1;33m(\u001b[0m\u001b[0mx\u001b[0m\u001b[1;33m.\u001b[0m\u001b[0mtranspose\u001b[0m\u001b[1;33m(\u001b[0m\u001b[1;33m(\u001b[0m\u001b[1;36m0\u001b[0m\u001b[1;33m,\u001b[0m \u001b[1;36m3\u001b[0m\u001b[1;33m,\u001b[0m \u001b[1;36m1\u001b[0m\u001b[1;33m,\u001b[0m \u001b[1;36m2\u001b[0m\u001b[1;33m)\u001b[0m\u001b[1;33m)\u001b[0m\u001b[1;33m)\u001b[0m  \u001b[1;31m# BHWC to BCHW\u001b[0m\u001b[1;33m\u001b[0m\u001b[1;33m\u001b[0m\u001b[0m\n\u001b[1;32m--> 330\u001b[1;33m         \u001b[0mx\u001b[0m \u001b[1;33m=\u001b[0m \u001b[0mtorch\u001b[0m\u001b[1;33m.\u001b[0m\u001b[0mfrom_numpy\u001b[0m\u001b[1;33m(\u001b[0m\u001b[0mx\u001b[0m\u001b[1;33m)\u001b[0m\u001b[1;33m.\u001b[0m\u001b[0mto\u001b[0m\u001b[1;33m(\u001b[0m\u001b[0mp\u001b[0m\u001b[1;33m.\u001b[0m\u001b[0mdevice\u001b[0m\u001b[1;33m)\u001b[0m\u001b[1;33m.\u001b[0m\u001b[0mtype_as\u001b[0m\u001b[1;33m(\u001b[0m\u001b[0mp\u001b[0m\u001b[1;33m)\u001b[0m \u001b[1;33m/\u001b[0m \u001b[1;36m255.\u001b[0m  \u001b[1;31m# uint8 to fp16/32\u001b[0m\u001b[1;33m\u001b[0m\u001b[1;33m\u001b[0m\u001b[0m\n\u001b[0m\u001b[0;32m    331\u001b[0m         \u001b[0mt\u001b[0m\u001b[1;33m.\u001b[0m\u001b[0mappend\u001b[0m\u001b[1;33m(\u001b[0m\u001b[0mtime_sync\u001b[0m\u001b[1;33m(\u001b[0m\u001b[1;33m)\u001b[0m\u001b[1;33m)\u001b[0m\u001b[1;33m\u001b[0m\u001b[1;33m\u001b[0m\u001b[0m\n\u001b[0;32m    332\u001b[0m \u001b[1;33m\u001b[0m\u001b[0m\n",
      "\u001b[1;31mRuntimeError\u001b[0m: CUDA out of memory. Tried to allocate 2.00 MiB (GPU 0; 4.00 GiB total capacity; 2.11 GiB already allocated; 0 bytes free; 2.15 GiB reserved in total by PyTorch)"
     ]
    }
   ],
   "source": [
    "from glob import glob \n",
    "\n",
    "img_list = glob('./static/photos/*')\n",
    "db ={}\n",
    "objects = ['킥보드', '점자블록', '횡단보도', '소화전']\n",
    "print(img_list)\n",
    "\n",
    "for img_path in img_list:\n",
    "    results = model(img_path)\n",
    "    results.save()\n",
    "    tags = set()\n",
    "    for pred in results.pred[0]:\n",
    "        item  = objects[int(pred[-1])]\n",
    "        tags.add(item)\n",
    "    db[img_path] = list(tags)\n",
    "db\n",
    "\n",
    "    "
   ]
  },
  {
   "cell_type": "code",
   "execution_count": 7,
   "metadata": {
    "ExecuteTime": {
     "end_time": "2021-08-20T06:37:28.901355Z",
     "start_time": "2021-08-20T06:36:38.884295Z"
    }
   },
   "outputs": [
    {
     "name": "stdout",
     "output_type": "stream",
     "text": [
      " * Serving Flask app \"__main__\" (lazy loading)\n",
      " * Environment: production\n",
      "   WARNING: This is a development server. Do not use it in a production deployment.\n",
      "   Use a production WSGI server instead.\n",
      " * Debug mode: off\n"
     ]
    },
    {
     "name": "stderr",
     "output_type": "stream",
     "text": [
      " * Running on http://127.0.0.1:5000/ (Press CTRL+C to quit)\n",
      "127.0.0.1 - - [20/Aug/2021 15:36:47] \"\u001b[37mGET / HTTP/1.1\u001b[0m\" 200 -\n",
      "127.0.0.1 - - [20/Aug/2021 15:36:47] \"\u001b[37mGET /static/photos/testcase.jpg HTTP/1.1\u001b[0m\" 200 -\n",
      "127.0.0.1 - - [20/Aug/2021 15:36:47] \"\u001b[37mGET /static/photos/testcase2.png HTTP/1.1\u001b[0m\" 200 -\n",
      "127.0.0.1 - - [20/Aug/2021 15:36:47] \"\u001b[37mGET /static/photos/testcase3.jpg HTTP/1.1\u001b[0m\" 200 -\n",
      "127.0.0.1 - - [20/Aug/2021 15:36:47] \"\u001b[37mGET /static/photos/testcase4.jpg HTTP/1.1\u001b[0m\" 200 -\n",
      "127.0.0.1 - - [20/Aug/2021 15:36:48] \"\u001b[37mGET /static/photos/testcase5.jpg HTTP/1.1\u001b[0m\" 200 -\n",
      "127.0.0.1 - - [20/Aug/2021 15:36:48] \"\u001b[37mGET /static/photos/testcase6.jpg HTTP/1.1\u001b[0m\" 200 -\n"
     ]
    }
   ],
   "source": [
    "from flask import Flask, render_template\n",
    "\n",
    "app = Flask(__name__)\n",
    "\n",
    "@app.route('/')\n",
    "def index():\n",
    "    return render_template('index.html', photos=db)\n",
    "\n",
    "if __name__ == '__main__':\n",
    "    app.run()"
   ]
  },
  {
   "cell_type": "code",
   "execution_count": 17,
   "metadata": {
    "ExecuteTime": {
     "end_time": "2021-08-20T10:13:26.616697Z",
     "start_time": "2021-08-20T10:13:26.588639Z"
    }
   },
   "outputs": [
    {
     "data": {
      "text/html": [
       "<div>\n",
       "<style scoped>\n",
       "    .dataframe tbody tr th:only-of-type {\n",
       "        vertical-align: middle;\n",
       "    }\n",
       "\n",
       "    .dataframe tbody tr th {\n",
       "        vertical-align: top;\n",
       "    }\n",
       "\n",
       "    .dataframe thead th {\n",
       "        text-align: right;\n",
       "    }\n",
       "</style>\n",
       "<table border=\"1\" class=\"dataframe\">\n",
       "  <thead>\n",
       "    <tr style=\"text-align: right;\">\n",
       "      <th></th>\n",
       "      <th>xcenter</th>\n",
       "      <th>ycenter</th>\n",
       "      <th>width</th>\n",
       "      <th>height</th>\n",
       "      <th>confidence</th>\n",
       "      <th>class</th>\n",
       "      <th>name</th>\n",
       "    </tr>\n",
       "  </thead>\n",
       "  <tbody>\n",
       "    <tr>\n",
       "      <th>0</th>\n",
       "      <td>0.623487</td>\n",
       "      <td>0.499902</td>\n",
       "      <td>0.133387</td>\n",
       "      <td>0.234570</td>\n",
       "      <td>0.854492</td>\n",
       "      <td>3</td>\n",
       "      <td>fireplug</td>\n",
       "    </tr>\n",
       "    <tr>\n",
       "      <th>1</th>\n",
       "      <td>0.389018</td>\n",
       "      <td>0.605859</td>\n",
       "      <td>0.636715</td>\n",
       "      <td>0.636719</td>\n",
       "      <td>0.807129</td>\n",
       "      <td>0</td>\n",
       "      <td>electric_scooter</td>\n",
       "    </tr>\n",
       "  </tbody>\n",
       "</table>\n",
       "</div>"
      ],
      "text/plain": [
       "    xcenter   ycenter     width    height  confidence  class              name\n",
       "0  0.623487  0.499902  0.133387  0.234570    0.854492      3          fireplug\n",
       "1  0.389018  0.605859  0.636715  0.636719    0.807129      0  electric_scooter"
      ]
     },
     "execution_count": 17,
     "metadata": {},
     "output_type": "execute_result"
    }
   ],
   "source": [
    "from PIL import Image\n",
    "import io\n",
    "\n",
    "results.xyxy[0]  # img1 predictions (tensor)\n",
    "results.pandas().xyxy[0]  # img1 predictions (pandas)\n",
    "results.pandas().xywhn[0]"
   ]
  },
  {
   "cell_type": "code",
   "execution_count": 18,
   "metadata": {
    "ExecuteTime": {
     "end_time": "2021-08-20T10:13:35.327878Z",
     "start_time": "2021-08-20T10:13:35.313390Z"
    }
   },
   "outputs": [
    {
     "data": {
      "text/plain": [
       "array(    0.31836, dtype=float32)"
      ]
     },
     "execution_count": 18,
     "metadata": {},
     "output_type": "execute_result"
    }
   ],
   "source": [
    "toMeasure = (results.xywhn[0][1][3]/2) # heigth /2 meter\n",
    "toMeasure = toMeasure.cpu().numpy()\n",
    "x = 0.6/toMeasure"
   ]
  },
  {
   "cell_type": "code",
   "execution_count": 19,
   "metadata": {
    "ExecuteTime": {
     "end_time": "2021-08-20T10:18:25.909624Z",
     "start_time": "2021-08-20T10:18:25.882975Z"
    }
   },
   "outputs": [
    {
     "name": "stdout",
     "output_type": "stream",
     "text": [
      "[    0.62349      0.4999] [    0.38902     0.60586]\n",
      "0.07 M\n"
     ]
    }
   ],
   "source": [
    "from scipy.spatial import distance\n",
    "a = results.xywhn[0][0][:2].cpu().numpy()\n",
    "b = results.xywhn[0][1][:2].cpu().numpy()\n",
    "print(a,b)\n",
    "type(a)\n",
    "dist = round(distance.euclidean(a, b) * toMeasure * 0.8552186152585255, 3)\n",
    "print(dist, \"M\")"
   ]
  },
  {
   "cell_type": "code",
   "execution_count": 25,
   "metadata": {
    "ExecuteTime": {
     "end_time": "2021-08-20T10:21:43.074656Z",
     "start_time": "2021-08-20T10:21:43.047468Z"
    }
   },
   "outputs": [
    {
     "name": "stdout",
     "output_type": "stream",
     "text": [
      "      xcenter     ycenter       width      height  confidence  class  \\\n",
      "0  386.562073  413.419220   82.699982  193.989624    0.854492      3   \n",
      "1  241.191010  501.045685  394.763245  526.566345    0.807129      0   \n",
      "\n",
      "               name  \n",
      "0          fireplug  \n",
      "1  electric_scooter  \n",
      "[    0.62349      0.4999]\n"
     ]
    }
   ],
   "source": [
    "import numpy as np\n",
    "print(results.pandas().xywh[0])\n",
    "\n",
    "def getDistance(list):\n",
    "    objects = list.xywhn[0].cpu().numpy()\n",
    "    for obj in objects:\n",
    "        if np.equal(obj[-1],3): # 3 is fireplug\n",
    "            fpoints = obj[:2]\n",
    "            print(fpoints)\n",
    "    #return obj\n",
    "getDistance(results)"
   ]
  },
  {
   "cell_type": "code",
   "execution_count": 4,
   "metadata": {
    "ExecuteTime": {
     "end_time": "2021-08-20T10:31:40.154924Z",
     "start_time": "2021-08-20T10:31:26.471827Z"
    }
   },
   "outputs": [
    {
     "ename": "NameError",
     "evalue": "name 'cv' is not defined",
     "output_type": "error",
     "traceback": [
      "\u001b[1;31m---------------------------------------------------------------------------\u001b[0m",
      "\u001b[1;31mNameError\u001b[0m                                 Traceback (most recent call last)",
      "\u001b[1;32m<ipython-input-4-663859fba5a9>\u001b[0m in \u001b[0;36m<module>\u001b[1;34m\u001b[0m\n\u001b[0;32m      5\u001b[0m \u001b[0mcv2\u001b[0m\u001b[1;33m.\u001b[0m\u001b[0mimshow\u001b[0m\u001b[1;33m(\u001b[0m\u001b[1;34m\"Drawing\"\u001b[0m\u001b[1;33m,\u001b[0m\u001b[0mimg\u001b[0m\u001b[1;33m)\u001b[0m\u001b[1;33m\u001b[0m\u001b[1;33m\u001b[0m\u001b[0m\n\u001b[0;32m      6\u001b[0m \u001b[0mcv2\u001b[0m\u001b[1;33m.\u001b[0m\u001b[0mwaitKey\u001b[0m\u001b[1;33m(\u001b[0m\u001b[1;36m0\u001b[0m\u001b[1;33m)\u001b[0m\u001b[1;33m\u001b[0m\u001b[1;33m\u001b[0m\u001b[0m\n\u001b[1;32m----> 7\u001b[1;33m \u001b[0mcv\u001b[0m\u001b[1;33m.\u001b[0m\u001b[0mdestoryAllWindows\u001b[0m\u001b[1;33m(\u001b[0m\u001b[1;33m)\u001b[0m\u001b[1;33m\u001b[0m\u001b[1;33m\u001b[0m\u001b[0m\n\u001b[0m",
      "\u001b[1;31mNameError\u001b[0m: name 'cv' is not defined"
     ]
    }
   ],
   "source": [
    "import cv2\n",
    "img = cv2.imread('./runs/detect/exp8/testcase14.jpg')\n",
    "img = cv2.line(img,(386,413),(241,501),(255,0,0),5)\n",
    "\n",
    "cv2.imshow(\"Drawing\",img)\n",
    "cv2.waitKey(0)\n",
    "cv.destoryAllWindows()"
   ]
  }
 ],
 "metadata": {
  "accelerator": "GPU",
  "colab": {
   "authorship_tag": "ABX9TyO5moICBormciTBjoVjSG8K",
   "collapsed_sections": [],
   "name": "Untitled0.ipynb",
   "provenance": []
  },
  "kernelspec": {
   "display_name": "Python 3",
   "language": "python",
   "name": "python3"
  },
  "language_info": {
   "codemirror_mode": {
    "name": "ipython",
    "version": 3
   },
   "file_extension": ".py",
   "mimetype": "text/x-python",
   "name": "python",
   "nbconvert_exporter": "python",
   "pygments_lexer": "ipython3",
   "version": "3.8.5"
  },
  "toc": {
   "base_numbering": 1,
   "nav_menu": {},
   "number_sections": true,
   "sideBar": true,
   "skip_h1_title": false,
   "title_cell": "Table of Contents",
   "title_sidebar": "Contents",
   "toc_cell": false,
   "toc_position": {},
   "toc_section_display": true,
   "toc_window_display": false
  }
 },
 "nbformat": 4,
 "nbformat_minor": 1
}
