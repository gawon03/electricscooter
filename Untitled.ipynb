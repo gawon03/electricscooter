{
 "cells": [
  {
   "cell_type": "code",
   "execution_count": null,
   "metadata": {
    "ExecuteTime": {
     "start_time": "2021-08-20T05:03:07.064Z"
    }
   },
   "outputs": [],
   "source": [
    "import io\n",
    "import os\n",
    "import json\n",
    "from PIL import Image\n",
    "\n",
    "import torch\n",
    "from flask import Flask, jsonify, url_for, render_template, request, redirect\n",
    "\n",
    "app = Flask(__name__)\n",
    "\n",
    "RESULT_FOLDER = os.path.join('static')\n",
    "app.config['RESULT_FOLDER'] = RESULT_FOLDER\n",
    "\n",
    "model = torch.hub.load('ultralytics/yolov5', 'yolov5s', pretrained=True).autoshape()  # for PIL/cv2/np inputs and NMS\n",
    "model.eval()\n",
    "\n",
    "def get_prediction(img_bytes):\n",
    "    img = Image.open(io.BytesIO(img_bytes))\n",
    "    imgs = [img]  # batched list of images\n",
    "\n",
    "# Inference\n",
    "    results = model(imgs, size=640)  # includes NMS\n",
    "    return results\n",
    "\n",
    "@app.route('/', methods=['GET', 'POST'])\n",
    "def predict():\n",
    "    if request.method == 'POST':\n",
    "        if 'file' not in request.files:\n",
    "            return redirect(request.url)\n",
    "        file = request.files.get('file')\n",
    "        if not file:\n",
    "            return\n",
    "\n",
    "        img_bytes = file.read()\n",
    "        results = get_prediction(img_bytes)\n",
    "        results.save()  # save as results1.jpg, results2.jpg... etc.\n",
    "        os.rename(\"results0.jpg\", \"static/results0.jpg\")\n",
    "\n",
    "        full_filename = os.path.join(app.config['RESULT_FOLDER'], 'results0.jpg')\n",
    "        return redirect('static/results0.jpg')\n",
    "    return render_template('index.html')"
   ]
  }
 ],
 "metadata": {
  "kernelspec": {
   "display_name": "Python 3",
   "language": "python",
   "name": "python3"
  },
  "language_info": {
   "codemirror_mode": {
    "name": "ipython",
    "version": 3
   },
   "file_extension": ".py",
   "mimetype": "text/x-python",
   "name": "python",
   "nbconvert_exporter": "python",
   "pygments_lexer": "ipython3",
   "version": "3.8.5"
  },
  "toc": {
   "base_numbering": 1,
   "nav_menu": {},
   "number_sections": true,
   "sideBar": true,
   "skip_h1_title": false,
   "title_cell": "Table of Contents",
   "title_sidebar": "Contents",
   "toc_cell": false,
   "toc_position": {},
   "toc_section_display": true,
   "toc_window_display": false
  }
 },
 "nbformat": 4,
 "nbformat_minor": 4
}
